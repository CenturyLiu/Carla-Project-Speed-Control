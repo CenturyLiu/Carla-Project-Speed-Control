{
 "cells": [
  {
   "cell_type": "markdown",
   "metadata": {},
   "source": [
    "# Carla vehicle throttle only control\n",
    "This is a brief demonstration of how to control carla vehicle based only on the throttle.\n",
    "\n",
    "### Part 1: Prerequisites for using the code below\n",
    "Follow instruction on [python-control](https://python-control.readthedocs.io/en/0.8.3/intro.html#), install the python control package.\n",
    "\n",
    "### Part 2: Control system design\n",
    "\n",
    "According to the [carla vehicle control document](https://carla.readthedocs.io/en/latest/python_api/#carla.VehicleControl), a carla vehicle's speed can be controlled by throttle, brake and gear. For simplicity, I only implemented the control with throttle. For more detailed car-control model, see [python-control example: cruise control](https://python-control.readthedocs.io/en/0.8.3/cruise.html).\n",
    "\n",
    "Here is a block diagram of the control system.\n",
    "[block diagram](https://github.com/CenturyLiu/Carla-Project-Speed-Control/blob/master/draft/block_diagram.PNG)\n",
    "\n",
    "The system is a simple unity feedback loop control system, with a \"controller\" block, and a \"vehicle\" block.\n",
    "\n",
    "The \"vehicle\" block in the diagram represents the carla vehicle we want to control. The vehicle takes the throttle input, use the throttle value interacting with the environment and report its forward.  \n",
    "\n",
    "The \"controller\" block is the one we need to design. Here, I implemented a simple block PI controller.\n",
    "\n",
    "\n",
    "### Part 3: Code walk through\n",
    "- Block 1: import all packages needed"
   ]
  },
  {
   "cell_type": "code",
   "execution_count": 1,
   "metadata": {},
   "outputs": [],
   "source": [
    "%matplotlib inline\n",
    "\n",
    "import carla\n",
    "import matplotlib.pyplot as plt\n",
    "import numpy as np\n",
    "from collections import deque\n",
    "import time\n",
    "\n",
    "import control # the python-control package, install first\n",
    "from carla_env import CARLA_ENV # self-written class that provides help functions, should be in the same folder"
   ]
  },
  {
   "cell_type": "markdown",
   "metadata": {},
   "source": [
    "- Block 2: create a PI controller "
   ]
  },
  {
   "cell_type": "code",
   "execution_count": 2,
   "metadata": {},
   "outputs": [
    {
     "data": {
      "text/plain": [
       "A = [[0.99999]]\n",
       "\n",
       "B = [[0.01]]\n",
       "\n",
       "C = [[0.09899951]]\n",
       "\n",
       "D = [[1.]]\n",
       "\n",
       "dt = 0.02"
      ]
     },
     "execution_count": 2,
     "metadata": {},
     "output_type": "execute_result"
    }
   ],
   "source": [
    "# PI controller constants\n",
    "KI = 0.05\n",
    "KP = 1.0\n",
    "\n",
    "def get_PI_controller(delta_seconds):\n",
    "    '''\n",
    "    Effects: create a discrete state-space PI controller\n",
    "    '''\n",
    "    num_pi = [KP, KI] # numerator of the PI transfer function (KP*s + KI)\n",
    "    den_pi = [1.0, 0.01*KI/KP] # denominator of PI transfer function (s + 0.01*KI/KP)\n",
    "\n",
    "    sys = control.tf(num_pi,den_pi) # get transfer function for PI controller (since the denominator has a small term 0.01*KI/KP, it is actually a lag-compensator)\n",
    "    sys = control.sample_system(sys, delta_seconds) # discretize the transfer function (from s-domain which is continuous to z-domain)\n",
    "                                                        #since our simulation is discrete\n",
    "    sys = control.tf2ss(sys) # transform transfer function into state space.\n",
    "    return sys\n",
    "\n",
    "# example\n",
    "sys = get_PI_controller(0.02)\n",
    "sys"
   ]
  },
  {
   "cell_type": "markdown",
   "metadata": {},
   "source": [
    "- define the functions for applying the throttle-only controller                                                    \n",
    "This function *throttle_only_control* is currently for one vehicle. It seems ok to adapt this function and make it possible for controlling the speed for multiple vehicles."
   ]
  },
  {
   "cell_type": "code",
   "execution_count": 3,
   "metadata": {},
   "outputs": [],
   "source": [
    "def speed_control(sys, ref_speeds, curr_speeds, init_values):\n",
    "    '''\n",
    "    Effects: get the reference speed, current (measured) speed and initial values\n",
    "             Use the difference \n",
    "                               e = ref_speeds - curr_speeds \n",
    "             as the input for the PI controller, derive the new throttle\n",
    "\n",
    "    Parameters\n",
    "    ----------\n",
    "    sys : control.ss \n",
    "        state space controller \n",
    "    ref_speeds : list of float\n",
    "        the desired speed we need\n",
    "    curr_speeds : list of float\n",
    "        the current speed\n",
    "    init_values : the initial_values of the system\n",
    "        DESCRIPTION.\n",
    "\n",
    "    Returns\n",
    "    -------\n",
    "    throttle : float type\n",
    "        DESCRIPTION.\n",
    "\n",
    "    '''\n",
    "    U0 = np.array(ref_speeds) - np.array(curr_speeds)\n",
    "    #print(U0)\n",
    "    _,y0,x0 = control.forced_response(sys,U = U0,X0 = init_values[0]) # y0 is the next values, x0 is the state evolution\n",
    "                                                                      # see https://python-control.readthedocs.io/en/0.8.3/generated/control.forced_response.html#control.forced_response \n",
    "    init_values.append(x0[-1])\n",
    "    throttle = y0[-1]\n",
    "    return throttle, init_values\n",
    "\n",
    "\n",
    "\n",
    "def throttle_only_control(env, speed_timeline, sim_time, model_uniquename):\n",
    "    '''\n",
    "    Effects: this is the function where the whole control system in part 2 is implemented. \n",
    "    -------\n",
    "    \n",
    "    Parameters:\n",
    "    -----------\n",
    "    env: CARLA_ENV\n",
    "    \n",
    "    speed_timeline: a list of tuples of (time (unit: s), speed (unit: m/s)).\n",
    "        Example: [(1,25),(10,10),(20,15)] \n",
    "                 The car will start accelerate from 0 to 25 m/s (90 km/h) at t = 1\n",
    "                 And decelerate from 25 m/s to 10 m/s at t = 10\n",
    "                 And accelerate again from 10 m/s to 15m/s at t = 15\n",
    "                 \n",
    "    sim_time: Total time for simulation. Its value should be larger than the last time in the speed_timeline list\n",
    "    \n",
    "    model_uniquename: str type\n",
    "        The uniquename the vehicle, which was assigned when an actor is spawned\n",
    "       \n",
    "    '''\n",
    "    \n",
    "    \n",
    "    \n",
    "    # essential storages for the controller to work\n",
    "    init_values = deque(maxlen = 2) # the state space values of the system. For a control system to be fully functional\n",
    "                                    # we need to give initial value\n",
    "    ref_speeds = deque(maxlen = 2) # the reference / target speed\n",
    "    curr_speeds = deque(maxlen = 2) # the measured speed of the vehicle\n",
    "    \n",
    "    \n",
    "    # storage for the visualize the reference speed, throttle and measured speed.\n",
    "    speed = []\n",
    "    throttles = []\n",
    "    reference_speed = []\n",
    "    \n",
    "    # give initial values to storage, assume the car is released at rest, with no initial speed or acceleration\n",
    "    init_values.append(0) \n",
    "    ref_speeds.append(0)\n",
    "    curr_speeds.append(0)\n",
    "    \n",
    "    count = 0 #timestep count\n",
    "    end_t = int(sim_time / env.delta_seconds) #the time at which the simulation ends\n",
    "    \n",
    "    timeline = [(st[0] / env.delta_seconds, st[1]) for st in speed_timeline] \n",
    "    timeline_count = 0 \n",
    "    current_ref_speed = 0\n",
    "    \n",
    "    \n",
    "    while True: #loop for applying control\n",
    "        env.world.tick()\n",
    "        curr_speed = env.get_forward_speed(model_uniquename)\n",
    "        speed.append(curr_speed)\n",
    "        \n",
    "        if count >= end_t:\n",
    "            break\n",
    "            \n",
    "        if timeline_count < len(timeline):\n",
    "            if count >= timeline[timeline_count][0]:  # need to get a new reference speed\n",
    "                current_ref_speed = timeline[timeline_count][1]\n",
    "                timeline_count += 1\n",
    "        \n",
    "        reference_speed.append(current_ref_speed) #for visualization\n",
    "        ref_speeds.append(current_ref_speed) #for control\n",
    "        curr_speeds.append(curr_speed) #for control\n",
    "        \n",
    "        throttle, init_values = speed_control(sys, ref_speeds, curr_speeds, init_values) # get the throttle control based on reference and current speed\n",
    "        throttle = np.clip(throttle,0,1) # throttle value is [0,1]\n",
    "        throttles.append(throttle) # for visualization\n",
    "        \n",
    "        vehicle_control = carla.VehicleControl(throttle = throttle,steer=0.0) \n",
    "        env.apply_vehicle_control(model_uniquename, vehicle_control) # apply control to vehicle\n",
    "        \n",
    "        count += 1\n",
    "        # end loop\n",
    "        \n",
    "        \n",
    "    return throttles, speed, reference_speed\n",
    "    "
   ]
  },
  {
   "cell_type": "markdown",
   "metadata": {},
   "source": [
    "- demo of the throttle-only-control on a plain ground"
   ]
  },
  {
   "cell_type": "code",
   "execution_count": 4,
   "metadata": {},
   "outputs": [
    {
     "name": "stdout",
     "output_type": "stream",
     "text": [
      "destroyed all actors\n"
     ]
    },
    {
     "data": {
      "image/png": "[encoded data removed]",
      "text/plain": [
       "<Figure size 432x288 with 3 Axes>"
      ]
     },
     "metadata": {
      "needs_background": "light"
     },
     "output_type": "display_data"
    }
   ],
   "source": [
    "client = carla.Client(\"localhost\",2000)\n",
    "client.set_timeout(10.0)\n",
    "world = client.load_world('Town06')\n",
    "\n",
    "# set the spectator position for demo purpose\n",
    "spectator = world.get_spectator()\n",
    "spectator.set_transform(carla.Transform(carla.Location(x=-68.29, y=151.75, z=170.8), carla.Rotation(pitch=-31.07, yaw= -90.868, roll=1.595))) # plain ground\n",
    "\n",
    "env = CARLA_ENV(world) \n",
    "time.sleep(2) # sleep for 2 seconds, wait the initialization to finish\n",
    "\n",
    "# spawn a vehicle, here I choose a Tesla model\n",
    "spawn_point = carla.Transform(carla.Location(x=-277.08, y=-15.39, z=4.94), carla.Rotation(pitch=0.000000, yaw= 0, roll=0.000000))\n",
    "model_name = \"vehicle.tesla.model3\"\n",
    "model_uniquename = env.spawn_vehicle(model_name,spawn_point) # spawn the model and get the uniquename, the CARLA_ENV class will store the vehicle into vehicle actor list\n",
    "\n",
    "#create timeline and sim_time\n",
    "sim_time = 20\n",
    "speed_timeline = [(1,25),(7,10),(12,15)]\n",
    "\n",
    "try:\n",
    "\n",
    "    throttles, speed, reference_speed = throttle_only_control(env, speed_timeline, sim_time, model_uniquename)\n",
    "    \n",
    "    fig,a =  plt.subplots(3,1)\n",
    "    \n",
    "    #plt.subplot(3,1,1)\n",
    "    a[0].plot(reference_speed)\n",
    "    a[0].set_title('reference speed')\n",
    "    #plt.subplot(3,1,2)\n",
    "    a[1].plot(throttles)\n",
    "    a[1].set_title('throttle applied')\n",
    "    a[2].plot(speed)\n",
    "    a[2].set_title('measured speed')\n",
    "    \n",
    "    \n",
    "finally:\n",
    "    env.destroy_actors()"
   ]
  },
  {
   "cell_type": "markdown",
   "metadata": {},
   "source": [
    "### Part 4 Discussion\n",
    "The figure above demonsstrates the performance of the current controller. Two problems remain.\n",
    "- Large oscillation in throttle value when trying to stablize the vehicle.\n",
    "\n",
    "  Example: look at t $\\approx$ 210 in the plot above, when the forward speed reaches 25 m/s, there exists a large oscillation in throttle value. This may not affect the performance of the vehicle in simulator, but will may not be satisfactory in real world.\n",
    "\n",
    "- Deceleration is slow without using brake\n",
    "\n",
    "  Example: look at t $\\approx$ 350 in the plot above, when the car starts to decelerate. Since i only applied throttle control here, it takes a long time for the car to decelerate."
   ]
  },
  {
   "cell_type": "markdown",
   "metadata": {},
   "source": [
    "Shiji Liu\n",
    "5/26/2020"
   ]
  }
 ],
 "metadata": {
  "kernelspec": {
   "display_name": "drlnd",
   "language": "python",
   "name": "drlnd"
  },
  "language_info": {
   "codemirror_mode": {
    "name": "ipython",
    "version": 3
   },
   "file_extension": ".py",
   "mimetype": "text/x-python",
   "name": "python",
   "nbconvert_exporter": "python",
   "pygments_lexer": "ipython3",
   "version": "3.6.10"
  }
 },
 "nbformat": 4,
 "nbformat_minor": 4
}
